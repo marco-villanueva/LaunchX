{
 "cells": [
  {
   "cell_type": "code",
   "execution_count": 16,
   "metadata": {},
   "outputs": [
    {
     "name": "stdout",
     "output_type": "stream",
     "text": [
      "Peligro: se acerca un asteroide muy rapido\n"
     ]
    }
   ],
   "source": [
    "a=49\n",
    "if a > 25:\n",
    "    print('Peligro: se acerca un asteroide muy rapido')\n",
    "else:\n",
    "    print('Todo bien en casa')"
   ]
  },
  {
   "cell_type": "code",
   "execution_count": 18,
   "metadata": {},
   "outputs": [
    {
     "name": "stdout",
     "output_type": "stream",
     "text": [
      "hay un espectáculo de luces en el cielo\n"
     ]
    }
   ],
   "source": [
    "a=22\n",
    "if a>=20:\n",
    "    print('hay un espectáculo de luces en el cielo')\n",
    "else:\n",
    "    print('no pasa nada')"
   ]
  },
  {
   "cell_type": "code",
   "execution_count": 19,
   "metadata": {},
   "outputs": [
    {
     "name": "stdout",
     "output_type": "stream",
     "text": [
      "espectáculo de luces\n"
     ]
    }
   ],
   "source": [
    "velocidad = 25\n",
    "tamano = 40\n",
    "\n",
    "if velocidad>25 and tamano>25:\n",
    "    print('Extinsión')\n",
    "elif velocidad >= 20:\n",
    "    print('espectáculo de luces')\n",
    "else:\n",
    "    print('Todo bien')"
   ]
  }
 ],
 "metadata": {
  "interpreter": {
   "hash": "16d7c25604da0338a5683cc9c1bf0d5e32a6d4db9bc58c50ad4c28e0310a1515"
  },
  "kernelspec": {
   "display_name": "Python 3.10.2 64-bit",
   "language": "python",
   "name": "python3"
  },
  "language_info": {
   "codemirror_mode": {
    "name": "ipython",
    "version": 3
   },
   "file_extension": ".py",
   "mimetype": "text/x-python",
   "name": "python",
   "nbconvert_exporter": "python",
   "pygments_lexer": "ipython3",
   "version": "3.10.2"
  },
  "orig_nbformat": 4
 },
 "nbformat": 4,
 "nbformat_minor": 2
}
